{
  "nbformat": 4,
  "nbformat_minor": 0,
  "metadata": {
    "colab": {
      "name": "Ebay Scrape Searching .ipynb",
      "provenance": [],
      "authorship_tag": "ABX9TyMZMIMl0+t3tjRlt431ibFR",
      "include_colab_link": true
    },
    "kernelspec": {
      "name": "python3",
      "display_name": "Python 3"
    },
    "language_info": {
      "name": "python"
    }
  },
  "cells": [
    {
      "cell_type": "markdown",
      "metadata": {
        "id": "view-in-github",
        "colab_type": "text"
      },
      "source": [
        "<a href=\"https://colab.research.google.com/github/linhvien/Data-Scraping/blob/main/Ebay_Scrape_Searching_.ipynb\" target=\"_parent\"><img src=\"https://colab.research.google.com/assets/colab-badge.svg\" alt=\"Open In Colab\"/></a>"
      ]
    },
    {
      "cell_type": "markdown",
      "metadata": {
        "id": "DldV1s3PRxiJ"
      },
      "source": [
        "Scraping ebay search"
      ]
    },
    {
      "cell_type": "code",
      "metadata": {
        "id": "gbJ6KbAYLYKR"
      },
      "source": [
        "import csv\n",
        "import requests\n",
        "from lxml import html"
      ],
      "execution_count": 1,
      "outputs": []
    },
    {
      "cell_type": "code",
      "metadata": {
        "id": "BxNGppITLiQ5"
      },
      "source": [
        "def get_page_items(tree):\n",
        "    container = tree.xpath(\"//ul[contains(@class, 'srp-results')]\")\n",
        "    if container:\n",
        "        return container[0].xpath(\".//li[contains(@class, 's-item')]\")\n",
        "    else:\n",
        "        return []"
      ],
      "execution_count": 2,
      "outputs": []
    },
    {
      "cell_type": "code",
      "metadata": {
        "id": "G8p9kDMVLmUA"
      },
      "source": [
        "def create_search_record(item):\n",
        "    title = \"\".join(item.xpath(\".//h3/text()\"))\n",
        "    sub_title = \"\".join(item.xpath(\".//div[@class='s-item__subtitle']/text()\"))\n",
        "    sub_title += \" \" + \"\".join(item.xpath(\".//div[@class='s-item__subtitle']//span[@class='SECONDARY_INFO']/text()\"))\n",
        "    rating = \"\".join(item.xpath(\".//div[@class='x-star-rating']//span[@class='clipped']/text()\"))\n",
        "    item_price = \"\".join(item.xpath(\".//span[@class='s-item__price']/text()\"))\n",
        "    trending_price = \"\".join(item.xpath(\".//span[@class='s-item__trending-price']/span[@class='STRIKETHROUGH']/text()\"))\n",
        "    item_link = \"\".join(item.xpath(\".//a[@class='s-item__link']/@href\"))\n",
        "    return (title, sub_title, rating, item_price, trending_price, item_link)"
      ],
      "execution_count": 3,
      "outputs": []
    },
    {
      "cell_type": "code",
      "metadata": {
        "id": "ioixKQ5FLpuQ"
      },
      "source": [
        "def get_next_page(tree):\n",
        "    return \"\".join(tree.xpath(\"//a[@class='pagination__next']/@href\"))"
      ],
      "execution_count": 4,
      "outputs": []
    },
    {
      "cell_type": "code",
      "metadata": {
        "id": "C2vTjsvnLssR"
      },
      "source": [
        "def search_ebay(keywords):\n",
        "    url = \"https://www.ebay.com/sch/i.html?&_nkw=\" + keywords.replace(\" \", \"+\")\n",
        "    response = requests.get(url)\n",
        "\n",
        "    # get first page\n",
        "    etree = html.fromstring(response.text)\n",
        "    page_data = []\n",
        "\n",
        "    # get remaining pages if existing\n",
        "    while True:\n",
        "        items = get_page_items(etree)\n",
        "        if not items:\n",
        "            break\n",
        "\n",
        "        for item in items:\n",
        "            page_data.append(create_search_record(item))\n",
        "\n",
        "        next_page = get_next_page(etree)\n",
        "        if not next_page:\n",
        "            break\n",
        "\n",
        "        response = requests.get(next_page)\n",
        "        if response.status_code != 200:\n",
        "            break\n",
        "\n",
        "        etree = html.fromstring(response.text)\n",
        "\n",
        "    return page_data"
      ],
      "execution_count": 5,
      "outputs": []
    },
    {
      "cell_type": "code",
      "metadata": {
        "id": "u9XaPIZSLvdQ"
      },
      "source": [
        "def save_results(records, filename, save_method='w'):\n",
        "    with open(filename, save_method, newline='', encoding='utf-8') as f:\n",
        "        writer = csv.writer(f)\n",
        "        writer.writerow(['Title', 'SubTitle', 'Rating', 'ItemPrice', 'TrendingPrice', 'ItemLink'])\n",
        "        writer.writerows(records)"
      ],
      "execution_count": 6,
      "outputs": []
    },
    {
      "cell_type": "code",
      "metadata": {
        "id": "7iOydBpdLyFo"
      },
      "source": [
        "# run the program\n",
        "\n",
        "results = search_ebay('mobile')\n",
        "\n",
        "if results:\n",
        "    save_results(results, 'result.csv')"
      ],
      "execution_count": 11,
      "outputs": []
    },
    {
      "cell_type": "code",
      "metadata": {
        "colab": {
          "base_uri": "https://localhost:8080/"
        },
        "id": "dSU2pdJtL1TZ",
        "outputId": "457dc04c-34d2-4b87-9366-71c2d6a6fbc5"
      },
      "source": [
        "# show the first few results\n",
        "results[:3]"
      ],
      "execution_count": 12,
      "outputs": [
        {
          "output_type": "execute_result",
          "data": {
            "text/plain": [
              "[('Samsung Galaxy S10+ Plus G975U T-Mobile ATT Sprint Verizon Unlocked - A+ Stock -',\n",
              "  'NEW FAST CHARGER - WARRANTY - 100% TESTED+CLEAN ESNSamsung Galaxy S10+128 GBUnlocked Open Box',\n",
              "  '4.5 out of 5 stars.',\n",
              "  'NT$ 8,288',\n",
              "  '',\n",
              "  'https://www.ebay.com/itm/255025116864?epid=16029464580&_trkparms=ispr%3D1&hash=item3b60ae76c0:g:LkYAAOSw3PFg0PH4&amdata=enc%3AAQAGAAACkPYe5NmHp%252B2JMhMi7yxGiTJkPrKr5t53CooMSQt2orsSg3Ye8yTWgOW7pmE1t838du1%252BdMZUJYLAiZvOkek9z4PUnOOu9q8bLfQcEPQKGEXvwvbU7WZ59gjln8qyg2fS0%252Bh1%252BpNMIjY2Nwo1iiY3xu2HgD6nRP8VF5%252FQJ8wWfbebKGADeQF25Jq87vbDWi1sdhfIVo3LfeDRu41diUuvYdMcP%252FE4%252FZ32wCVcgSZb%252F2BQSAqNd5zLFkZ9iHX7RhS2eqhex5LMvZTAuGCvAXKHiKs8nUq28eWyiLE%252F5o3MB%252F3%252FaXW0s155s4kWvK5fcQueol9SIiKJojN314TMDJud7n%252FvXAReZ7N4dPqdnUsn5Juw6eTElI0TiiB8ZzqSlsk%252BGPJTBW7uBXWkN1ZRcd48rm9DCMPKOUa6xC87%252BT9NdNPWh%252BEw8%252BHv2%252BwboRM2tJSAsfEf1VzXFYNpbR4qh8CCoQd360cJxkJLMNkixrVqBlEBrKKdS0GFGnZeAjq2rt%252FzChFUbYNNRI3TvtzszRiGCfK7EUfkae3ViD6RFbolSIVG345C6t9Lz9KIg1up561RzvR5QbPCnKuxx%252FmoRHjW6m%252BYVQ4vqqaEgUO16kmiUTl%252FQW%252BqOMHFfqR%252FwTINdWT71aTACUQbmIY6ms7Ztu0TzA47O0qKP1aBGM2Z51duNQqGRqPAdFwsvIEowSwy37JfCa6oZWvCv%252BkvQJELj2iwt4wu3RUclsUX9laQ%252FTbjFDyvNjryThMOwvaVAkNZOoSwvsg5%252BQpmE2wSveJWEysXJ%252FLO3rjB4qHtjBoSCv9aHBtVGpaYUaJCQ1gdsb%252BU0j9a3oEu%252BSONiWMpzPmJzre%252B92luLCYJDodcs1bFpycL%252BMzO%7Campid%3APL_CLK%7Cclp%3A2334524'),\n",
              " ('',\n",
              "  'FULLY TESTED | FREE SHIPPING | ACCESSORIES | WARRANTY Very Good - Refurbished',\n",
              "  '5.0 out of 5 stars.',\n",
              "  'NT$ 13,443NT$ 15,938',\n",
              "  '',\n",
              "  'https://www.ebay.com/itm/403135117786?epid=14034212858&_trkparms=ispr%3D1&hash=item5ddcb9b9da:g:gCEAAOSwbCJhMpTZ&amdata=enc%3AAQAGAAACkPYe5NmHp%252B2JMhMi7yxGiTJkPrKr5t53CooMSQt2orsS%252BMKizvpuEDUfX4dvRWfUzc0hQzx7Ya%252Fz%252FUlpocGjwkobq8bACTkjcXRJRTRAgCSNUa3BVpQayeVcruSA0I64%252F95b4TJPE5%252BYEAPVWqugK9MNxivOKnqWr1OLh1jqZDk551OLodv7Zocg5u%252Bn4%252BhqhDzdtZHLoeNHq6aSJR%252FPE7p08%252FbvTKQO49k9QaCrIvBMueGMVuLik%252Bldt8eV0lH5VK65GMOb2xnWNP3k0lA0mP6hqPnLGXpueWX45kgvUzP3xdA3frbhvzxIbs3nvTB4j%252BIIkgW6exsWD%252BWNbHJ3p0lVF2ff2m9DPJSGY5uW6RhWjSKJWMD5p%252Fy5jAnJmeNpV%252BdUb6xN14B8f9X8GXccm520hrTpoUQUI5%252FBodJtLV15PUs9YZV9TOLCg5IPu6hDpOcc3IDvqxh8lRUvfQY1PD5GGrzb4%252BEcxgSFU5Ijx2nhwiXlxgPXLlXszrG%252FbLwbW4%252Bcb3%252BL8XWTr3zHeha0Zmd1JS4zaF6mCFeRE9J5FAmzjJ3nEimzt67eKyDOBfrFc2mnsrjh9H3H6v1lw6%252BJQ8NWnwm6pqX%252BKsjmSY7PQhNNg1YZpdXE3QwHAK%252FwU34szJOwVGmk7pppO12YBWG23rSZGVawPNpQpW2JAhZZAoR61S%252FffqJz3wSkNVw4uG6PsvU49xhHsjfxUUTvS5f9I23RI4hEKDc3o1fdXfcZm4evFyvBDhDB2X0dFd1%252FTdwzsrxsYl74HjPE39nTcs4xdKRTS%252F0PYYVdGvKB0iSMMGK78lKlBDz0TPnky8nX0U%252FKbcZO0rJ%252FFcBfyZ%252BmHcSKMDyDcy%252BO%252By%252Bq6p14ebs%252FWP4f%7Campid%3APL_CLK%7Cclp%3A2334524'),\n",
              " ('New Samsung Galaxy S10 G973U Unlocked Total T-Mobile Boost Straight Talk Verizon',\n",
              "  ' Open Box',\n",
              "  '4.5 out of 5 stars.',\n",
              "  'NT$ 6,930NT$ 7,761',\n",
              "  '',\n",
              "  'https://www.ebay.com/itm/224533176174?epid=25030901198&_trkparms=ispr%3D1&hash=item3447385f6e:g:7A8AAOSwvRBg7cAE&amdata=enc%3AAQAGAAACkPYe5NmHp%252B2JMhMi7yxGiTJkPrKr5t53CooMSQt2orsSvtkx670Z0mbyfWqmxLFLYe1zr%252BbUiNJqakuzYvUIg53bugDJwPaNgKK2%252F5nwu8tPOtjexcn4u5dVFYghseJ%252F1NYE1ZvWxKjm3X%252F9i%252FqbR1OOx6c4cMPpzsKCamOEbh3zWkOtnQMV4joNFzgiv7NtYA7scb2XxxmU14QnplBqbDbffmpb1VM3dUYAmciolvzjq3R8gi6qSeDRYv%252BUfqfyLJacSBh3ckWDurMxzw4rVwE9yKZiASrzbCkBeACe5ObGWbtWnEa7%252F5%252B0souOtF6IuIvLn%252FaawekUe9G85HgqAXUa7xLeFIyr8zIghaJf8nTCm5sbNx7nhU4Sp8hLtsxUPzqpGNc6hMmksz1fuZdx2HQMnpGg5n89iMClSogTHMmeMmJ5DsvK4YkV2qimtFyuw7bale6vTWjVHZZL%252ByQJZtjfKZujmqCKnCaOC80rj8dcYIczcaxdXHsasTJzxzOSkaKO60n9S5A2wDYp2RKXqr1df8RXauT8CIim4coZFTwqofSLJC%252BQ3fUEnL3OXMpvEL71teU1IuI6GJ8ckiqKYO9Qc30x8KsRd5jo0A2zxuyatGevWZBXjEbele6Ga%252B7106BBuzWF%252BT1%252BNlKn8B%252BjK7d4qPcc3hb%252FoO48POLdYnKUR5QsAQXD4tP8RepUXzX%252FH4ghH7yifUCy9%252FT4OyG7m4E7267mXHkADPEXz0IeP4SjKGRCYgsOGhwO1YaXi9DMAQqvYpoIXkh9govkQzR3jrAKrNNzDszY9VguFfKLZbJdCGv7OhlBtnE3VxhkhOVJxr9QaDwMg1YT743XCbb%252BlJ6eTEu4qzR3DAXZ5O1djcKU%7Campid%3APL_CLK%7Cclp%3A2334524')]"
            ]
          },
          "metadata": {},
          "execution_count": 12
        }
      ]
    }
  ]
}