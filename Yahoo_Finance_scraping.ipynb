{
  "nbformat": 4,
  "nbformat_minor": 0,
  "metadata": {
    "colab": {
      "name": "Yahoo Finance scraping.ipynb",
      "provenance": [],
      "collapsed_sections": [],
      "toc_visible": true,
      "authorship_tag": "ABX9TyOvHqOv/D9ra9JosxfJW3we",
      "include_colab_link": true
    },
    "kernelspec": {
      "name": "python3",
      "display_name": "Python 3"
    },
    "language_info": {
      "name": "python"
    }
  },
  "cells": [
    {
      "cell_type": "markdown",
      "metadata": {
        "id": "view-in-github",
        "colab_type": "text"
      },
      "source": [
        "<a href=\"https://colab.research.google.com/github/linhvien/Data-Scraping/blob/main/Yahoo_Finance_scraping.ipynb\" target=\"_parent\"><img src=\"https://colab.research.google.com/assets/colab-badge.svg\" alt=\"Open In Colab\"/></a>"
      ]
    },
    {
      "cell_type": "markdown",
      "metadata": {
        "id": "n8gvKttONFzH"
      },
      "source": [
        "Extract financial data of stocks from Yahoo Finance "
      ]
    },
    {
      "cell_type": "markdown",
      "metadata": {
        "id": "Uacj-uKDoab-"
      },
      "source": [
        "#Import Libraries"
      ]
    },
    {
      "cell_type": "code",
      "metadata": {
        "id": "WlvlzJIbS5mT"
      },
      "source": [
        "from bs4 import BeautifulSoup\n",
        "import requests\n",
        "\n",
        "import re\n",
        "import json\n",
        "import csv\n",
        "from io import StringIO\n",
        "from datetime import datetime, timedelta\n",
        "import time\n",
        "\n",
        "import pandas as pd\n",
        "import numpy as np\n",
        "import matplotlib.pyplot as plt"
      ],
      "execution_count": null,
      "outputs": []
    },
    {
      "cell_type": "markdown",
      "metadata": {
        "id": "itW9xTIXt57L"
      },
      "source": [
        "#Financial data"
      ]
    },
    {
      "cell_type": "code",
      "metadata": {
        "id": "M2kWD1CIt35k"
      },
      "source": [
        "# Define Url and establish connection\n",
        "url_stats = 'https://finance.yahoo.com/quote/{}/key-statistics?p={}'\n",
        "url_profile = 'https://finance.yahoo.com/quote/{}/profile?p={}'\n",
        "url_financials = 'https://finance.yahoo.com/quote/{}/financials?p={}'\n",
        "\n",
        "headers={'User-Agent': 'Mozilla/5.0 (Windows NT 10.0; Win64; x64) AppleWebKit/537.36 (KHTML, like Gecko) Chrome/71.0.3578.98 Safari/537.36'}\n"
      ],
      "execution_count": null,
      "outputs": []
    },
    {
      "cell_type": "code",
      "metadata": {
        "id": "7vhjkoQ4N_bg"
      },
      "source": [
        "def getannualisdata(stock):\n",
        "  # Use requests to retrieve data from a given URL\n",
        "  response = requests.get(url_financials.format(stock,stock),headers=headers)\n",
        "  soup = BeautifulSoup(response.text,'html.parser')\n",
        "\n",
        "  # Use reg expression \\s for non-breaking spaces\n",
        "  pattern = re.compile(r'\\s--\\sData\\s--\\s')\n",
        "  script_data = soup.find('script',text=pattern).contents[0]\n",
        "\n",
        "  #Extracting and parsing html and json data\n",
        "  start = script_data.find('context')-2\n",
        "  json_data = json.loads(script_data[start:-12])\n",
        "\n",
        "  annual_is = json_data['context']['dispatcher']['stores']['QuoteSummaryStore']['incomeStatementHistory']['incomeStatementHistory']\n",
        "  annual_is_stmts = []\n",
        "  for s in annual_is:\n",
        "    statement = {}\n",
        "    for key, val in s.items():\n",
        "        try:\n",
        "            statement[key] = val['raw']\n",
        "        except TypeError:\n",
        "            continue\n",
        "        except KeyError:\n",
        "            continue\n",
        "    annual_is_stmts.append(statement)\n",
        "  return annual_is_stmts"
      ],
      "execution_count": null,
      "outputs": []
    },
    {
      "cell_type": "code",
      "metadata": {
        "colab": {
          "base_uri": "https://localhost:8080/",
          "height": 292
        },
        "id": "vBkacThePS7Y",
        "outputId": "08d6c2e2-d7f4-426b-a57c-3e0cf91ed922"
      },
      "source": [
        "df = pd.DataFrame(getannualisdata('AMZN'))\n",
        "df['endDate'] = df['endDate'].astype('datetime64[s]')\n",
        "df.set_index('endDate', inplace=True)\n",
        "df"
      ],
      "execution_count": null,
      "outputs": [
        {
          "output_type": "execute_result",
          "data": {
            "text/html": [
              "<div>\n",
              "<style scoped>\n",
              "    .dataframe tbody tr th:only-of-type {\n",
              "        vertical-align: middle;\n",
              "    }\n",
              "\n",
              "    .dataframe tbody tr th {\n",
              "        vertical-align: top;\n",
              "    }\n",
              "\n",
              "    .dataframe thead th {\n",
              "        text-align: right;\n",
              "    }\n",
              "</style>\n",
              "<table border=\"1\" class=\"dataframe\">\n",
              "  <thead>\n",
              "    <tr style=\"text-align: right;\">\n",
              "      <th></th>\n",
              "      <th>researchDevelopment</th>\n",
              "      <th>incomeBeforeTax</th>\n",
              "      <th>netIncome</th>\n",
              "      <th>sellingGeneralAdministrative</th>\n",
              "      <th>grossProfit</th>\n",
              "      <th>ebit</th>\n",
              "      <th>operatingIncome</th>\n",
              "      <th>otherOperatingExpenses</th>\n",
              "      <th>interestExpense</th>\n",
              "      <th>incomeTaxExpense</th>\n",
              "      <th>totalRevenue</th>\n",
              "      <th>totalOperatingExpenses</th>\n",
              "      <th>costOfRevenue</th>\n",
              "      <th>totalOtherIncomeExpenseNet</th>\n",
              "      <th>netIncomeFromContinuingOps</th>\n",
              "      <th>netIncomeApplicableToCommonShares</th>\n",
              "    </tr>\n",
              "    <tr>\n",
              "      <th>endDate</th>\n",
              "      <th></th>\n",
              "      <th></th>\n",
              "      <th></th>\n",
              "      <th></th>\n",
              "      <th></th>\n",
              "      <th></th>\n",
              "      <th></th>\n",
              "      <th></th>\n",
              "      <th></th>\n",
              "      <th></th>\n",
              "      <th></th>\n",
              "      <th></th>\n",
              "      <th></th>\n",
              "      <th></th>\n",
              "      <th></th>\n",
              "      <th></th>\n",
              "    </tr>\n",
              "  </thead>\n",
              "  <tbody>\n",
              "    <tr>\n",
              "      <th>2020-12-31</th>\n",
              "      <td>42740000000</td>\n",
              "      <td>24194000000</td>\n",
              "      <td>21331000000</td>\n",
              "      <td>87193000000</td>\n",
              "      <td>152757000000</td>\n",
              "      <td>22899000000</td>\n",
              "      <td>22899000000</td>\n",
              "      <td>-75000000</td>\n",
              "      <td>-1647000000</td>\n",
              "      <td>2863000000</td>\n",
              "      <td>386064000000</td>\n",
              "      <td>363165000000</td>\n",
              "      <td>233307000000</td>\n",
              "      <td>1295000000</td>\n",
              "      <td>21331000000</td>\n",
              "      <td>21331000000</td>\n",
              "    </tr>\n",
              "    <tr>\n",
              "      <th>2019-12-31</th>\n",
              "      <td>35931000000</td>\n",
              "      <td>13962000000</td>\n",
              "      <td>11588000000</td>\n",
              "      <td>64313000000</td>\n",
              "      <td>114986000000</td>\n",
              "      <td>14404000000</td>\n",
              "      <td>14404000000</td>\n",
              "      <td>338000000</td>\n",
              "      <td>-1600000000</td>\n",
              "      <td>2374000000</td>\n",
              "      <td>280522000000</td>\n",
              "      <td>266118000000</td>\n",
              "      <td>165536000000</td>\n",
              "      <td>-442000000</td>\n",
              "      <td>11588000000</td>\n",
              "      <td>11588000000</td>\n",
              "    </tr>\n",
              "    <tr>\n",
              "      <th>2018-12-31</th>\n",
              "      <td>28837000000</td>\n",
              "      <td>11270000000</td>\n",
              "      <td>10073000000</td>\n",
              "      <td>52177000000</td>\n",
              "      <td>93731000000</td>\n",
              "      <td>12421000000</td>\n",
              "      <td>12421000000</td>\n",
              "      <td>296000000</td>\n",
              "      <td>-1417000000</td>\n",
              "      <td>1197000000</td>\n",
              "      <td>232887000000</td>\n",
              "      <td>220466000000</td>\n",
              "      <td>139156000000</td>\n",
              "      <td>-1151000000</td>\n",
              "      <td>10073000000</td>\n",
              "      <td>10073000000</td>\n",
              "    </tr>\n",
              "    <tr>\n",
              "      <th>2017-12-31</th>\n",
              "      <td>22620000000</td>\n",
              "      <td>3802000000</td>\n",
              "      <td>3033000000</td>\n",
              "      <td>38992000000</td>\n",
              "      <td>65932000000</td>\n",
              "      <td>4106000000</td>\n",
              "      <td>4106000000</td>\n",
              "      <td>214000000</td>\n",
              "      <td>-848000000</td>\n",
              "      <td>769000000</td>\n",
              "      <td>177866000000</td>\n",
              "      <td>173760000000</td>\n",
              "      <td>111934000000</td>\n",
              "      <td>-304000000</td>\n",
              "      <td>3033000000</td>\n",
              "      <td>3033000000</td>\n",
              "    </tr>\n",
              "  </tbody>\n",
              "</table>\n",
              "</div>"
            ],
            "text/plain": [
              "            researchDevelopment  ...  netIncomeApplicableToCommonShares\n",
              "endDate                          ...                                   \n",
              "2020-12-31          42740000000  ...                        21331000000\n",
              "2019-12-31          35931000000  ...                        11588000000\n",
              "2018-12-31          28837000000  ...                        10073000000\n",
              "2017-12-31          22620000000  ...                         3033000000\n",
              "\n",
              "[4 rows x 16 columns]"
            ]
          },
          "metadata": {},
          "execution_count": 8
        }
      ]
    },
    {
      "cell_type": "code",
      "metadata": {
        "colab": {
          "base_uri": "https://localhost:8080/",
          "height": 676
        },
        "id": "1t0tUrFbYf_A",
        "outputId": "dd71b4be-17f7-4295-ddc3-0ad15eb9f4a0"
      },
      "source": [
        "portfolio = ['AMZN','AAPL','TSLA']\n",
        "dfs = []\n",
        "for i in portfolio:\n",
        "  dfs.append(pd.DataFrame(getannualisdata(i)))\n",
        "df = pd.concat(dfs, axis=0, ignore_index=True)\n",
        "date = df['endDate'].astype('datetime64[s]').tolist()\n",
        "df['endDate'] = df['endDate'].astype('datetime64[s]')\n",
        "df.set_index('endDate', inplace=True)\n",
        "\n",
        "index = pd.MultiIndex.from_product([portfolio,date])\n",
        "\n",
        "df"
      ],
      "execution_count": null,
      "outputs": [
        {
          "output_type": "execute_result",
          "data": {
            "text/html": [
              "<div>\n",
              "<style scoped>\n",
              "    .dataframe tbody tr th:only-of-type {\n",
              "        vertical-align: middle;\n",
              "    }\n",
              "\n",
              "    .dataframe tbody tr th {\n",
              "        vertical-align: top;\n",
              "    }\n",
              "\n",
              "    .dataframe thead th {\n",
              "        text-align: right;\n",
              "    }\n",
              "</style>\n",
              "<table border=\"1\" class=\"dataframe\">\n",
              "  <thead>\n",
              "    <tr style=\"text-align: right;\">\n",
              "      <th></th>\n",
              "      <th>researchDevelopment</th>\n",
              "      <th>incomeBeforeTax</th>\n",
              "      <th>netIncome</th>\n",
              "      <th>sellingGeneralAdministrative</th>\n",
              "      <th>grossProfit</th>\n",
              "      <th>ebit</th>\n",
              "      <th>operatingIncome</th>\n",
              "      <th>otherOperatingExpenses</th>\n",
              "      <th>interestExpense</th>\n",
              "      <th>incomeTaxExpense</th>\n",
              "      <th>totalRevenue</th>\n",
              "      <th>totalOperatingExpenses</th>\n",
              "      <th>costOfRevenue</th>\n",
              "      <th>totalOtherIncomeExpenseNet</th>\n",
              "      <th>netIncomeFromContinuingOps</th>\n",
              "      <th>netIncomeApplicableToCommonShares</th>\n",
              "      <th>minorityInterest</th>\n",
              "    </tr>\n",
              "    <tr>\n",
              "      <th>endDate</th>\n",
              "      <th></th>\n",
              "      <th></th>\n",
              "      <th></th>\n",
              "      <th></th>\n",
              "      <th></th>\n",
              "      <th></th>\n",
              "      <th></th>\n",
              "      <th></th>\n",
              "      <th></th>\n",
              "      <th></th>\n",
              "      <th></th>\n",
              "      <th></th>\n",
              "      <th></th>\n",
              "      <th></th>\n",
              "      <th></th>\n",
              "      <th></th>\n",
              "      <th></th>\n",
              "    </tr>\n",
              "  </thead>\n",
              "  <tbody>\n",
              "    <tr>\n",
              "      <th>2020-12-31</th>\n",
              "      <td>42740000000</td>\n",
              "      <td>24194000000</td>\n",
              "      <td>21331000000</td>\n",
              "      <td>87193000000</td>\n",
              "      <td>152757000000</td>\n",
              "      <td>22899000000</td>\n",
              "      <td>22899000000</td>\n",
              "      <td>-75000000.0</td>\n",
              "      <td>-1647000000</td>\n",
              "      <td>2863000000</td>\n",
              "      <td>386064000000</td>\n",
              "      <td>363165000000</td>\n",
              "      <td>233307000000</td>\n",
              "      <td>1295000000</td>\n",
              "      <td>21331000000</td>\n",
              "      <td>21331000000</td>\n",
              "      <td>NaN</td>\n",
              "    </tr>\n",
              "    <tr>\n",
              "      <th>2019-12-31</th>\n",
              "      <td>35931000000</td>\n",
              "      <td>13962000000</td>\n",
              "      <td>11588000000</td>\n",
              "      <td>64313000000</td>\n",
              "      <td>114986000000</td>\n",
              "      <td>14404000000</td>\n",
              "      <td>14404000000</td>\n",
              "      <td>338000000.0</td>\n",
              "      <td>-1600000000</td>\n",
              "      <td>2374000000</td>\n",
              "      <td>280522000000</td>\n",
              "      <td>266118000000</td>\n",
              "      <td>165536000000</td>\n",
              "      <td>-442000000</td>\n",
              "      <td>11588000000</td>\n",
              "      <td>11588000000</td>\n",
              "      <td>NaN</td>\n",
              "    </tr>\n",
              "    <tr>\n",
              "      <th>2018-12-31</th>\n",
              "      <td>28837000000</td>\n",
              "      <td>11270000000</td>\n",
              "      <td>10073000000</td>\n",
              "      <td>52177000000</td>\n",
              "      <td>93731000000</td>\n",
              "      <td>12421000000</td>\n",
              "      <td>12421000000</td>\n",
              "      <td>296000000.0</td>\n",
              "      <td>-1417000000</td>\n",
              "      <td>1197000000</td>\n",
              "      <td>232887000000</td>\n",
              "      <td>220466000000</td>\n",
              "      <td>139156000000</td>\n",
              "      <td>-1151000000</td>\n",
              "      <td>10073000000</td>\n",
              "      <td>10073000000</td>\n",
              "      <td>NaN</td>\n",
              "    </tr>\n",
              "    <tr>\n",
              "      <th>2017-12-31</th>\n",
              "      <td>22620000000</td>\n",
              "      <td>3802000000</td>\n",
              "      <td>3033000000</td>\n",
              "      <td>38992000000</td>\n",
              "      <td>65932000000</td>\n",
              "      <td>4106000000</td>\n",
              "      <td>4106000000</td>\n",
              "      <td>214000000.0</td>\n",
              "      <td>-848000000</td>\n",
              "      <td>769000000</td>\n",
              "      <td>177866000000</td>\n",
              "      <td>173760000000</td>\n",
              "      <td>111934000000</td>\n",
              "      <td>-304000000</td>\n",
              "      <td>3033000000</td>\n",
              "      <td>3033000000</td>\n",
              "      <td>NaN</td>\n",
              "    </tr>\n",
              "    <tr>\n",
              "      <th>2020-09-26</th>\n",
              "      <td>18752000000</td>\n",
              "      <td>67091000000</td>\n",
              "      <td>57411000000</td>\n",
              "      <td>19916000000</td>\n",
              "      <td>104956000000</td>\n",
              "      <td>66288000000</td>\n",
              "      <td>66288000000</td>\n",
              "      <td>NaN</td>\n",
              "      <td>-2873000000</td>\n",
              "      <td>9680000000</td>\n",
              "      <td>274515000000</td>\n",
              "      <td>208227000000</td>\n",
              "      <td>169559000000</td>\n",
              "      <td>803000000</td>\n",
              "      <td>57411000000</td>\n",
              "      <td>57411000000</td>\n",
              "      <td>NaN</td>\n",
              "    </tr>\n",
              "    <tr>\n",
              "      <th>2019-09-28</th>\n",
              "      <td>16217000000</td>\n",
              "      <td>65737000000</td>\n",
              "      <td>55256000000</td>\n",
              "      <td>18245000000</td>\n",
              "      <td>98392000000</td>\n",
              "      <td>63930000000</td>\n",
              "      <td>63930000000</td>\n",
              "      <td>NaN</td>\n",
              "      <td>-3576000000</td>\n",
              "      <td>10481000000</td>\n",
              "      <td>260174000000</td>\n",
              "      <td>196244000000</td>\n",
              "      <td>161782000000</td>\n",
              "      <td>1807000000</td>\n",
              "      <td>55256000000</td>\n",
              "      <td>55256000000</td>\n",
              "      <td>NaN</td>\n",
              "    </tr>\n",
              "    <tr>\n",
              "      <th>2018-09-29</th>\n",
              "      <td>14236000000</td>\n",
              "      <td>72903000000</td>\n",
              "      <td>59531000000</td>\n",
              "      <td>16705000000</td>\n",
              "      <td>101839000000</td>\n",
              "      <td>70898000000</td>\n",
              "      <td>70898000000</td>\n",
              "      <td>NaN</td>\n",
              "      <td>-3240000000</td>\n",
              "      <td>13372000000</td>\n",
              "      <td>265595000000</td>\n",
              "      <td>194697000000</td>\n",
              "      <td>163756000000</td>\n",
              "      <td>2005000000</td>\n",
              "      <td>59531000000</td>\n",
              "      <td>59531000000</td>\n",
              "      <td>NaN</td>\n",
              "    </tr>\n",
              "    <tr>\n",
              "      <th>2017-09-30</th>\n",
              "      <td>11581000000</td>\n",
              "      <td>64089000000</td>\n",
              "      <td>48351000000</td>\n",
              "      <td>15261000000</td>\n",
              "      <td>88186000000</td>\n",
              "      <td>61344000000</td>\n",
              "      <td>61344000000</td>\n",
              "      <td>NaN</td>\n",
              "      <td>-2323000000</td>\n",
              "      <td>15738000000</td>\n",
              "      <td>229234000000</td>\n",
              "      <td>167890000000</td>\n",
              "      <td>141048000000</td>\n",
              "      <td>2745000000</td>\n",
              "      <td>48351000000</td>\n",
              "      <td>48351000000</td>\n",
              "      <td>NaN</td>\n",
              "    </tr>\n",
              "    <tr>\n",
              "      <th>2020-12-31</th>\n",
              "      <td>1491000000</td>\n",
              "      <td>1154000000</td>\n",
              "      <td>721000000</td>\n",
              "      <td>3188000000</td>\n",
              "      <td>6630000000</td>\n",
              "      <td>1951000000</td>\n",
              "      <td>1951000000</td>\n",
              "      <td>NaN</td>\n",
              "      <td>-784000000</td>\n",
              "      <td>292000000</td>\n",
              "      <td>31536000000</td>\n",
              "      <td>29585000000</td>\n",
              "      <td>24906000000</td>\n",
              "      <td>-797000000</td>\n",
              "      <td>862000000</td>\n",
              "      <td>690000000</td>\n",
              "      <td>1.454000e+09</td>\n",
              "    </tr>\n",
              "    <tr>\n",
              "      <th>2019-12-31</th>\n",
              "      <td>1343000000</td>\n",
              "      <td>-665000000</td>\n",
              "      <td>-862000000</td>\n",
              "      <td>2646000000</td>\n",
              "      <td>4069000000</td>\n",
              "      <td>80000000</td>\n",
              "      <td>80000000</td>\n",
              "      <td>NaN</td>\n",
              "      <td>-725000000</td>\n",
              "      <td>110000000</td>\n",
              "      <td>24578000000</td>\n",
              "      <td>24498000000</td>\n",
              "      <td>20509000000</td>\n",
              "      <td>-745000000</td>\n",
              "      <td>-775000000</td>\n",
              "      <td>-870000000</td>\n",
              "      <td>1.492000e+09</td>\n",
              "    </tr>\n",
              "    <tr>\n",
              "      <th>2018-12-31</th>\n",
              "      <td>1460000000</td>\n",
              "      <td>-1005000000</td>\n",
              "      <td>-976000000</td>\n",
              "      <td>2835000000</td>\n",
              "      <td>4042000000</td>\n",
              "      <td>-253000000</td>\n",
              "      <td>-253000000</td>\n",
              "      <td>NaN</td>\n",
              "      <td>-653000000</td>\n",
              "      <td>58000000</td>\n",
              "      <td>21461000000</td>\n",
              "      <td>21714000000</td>\n",
              "      <td>17419000000</td>\n",
              "      <td>-752000000</td>\n",
              "      <td>-1063000000</td>\n",
              "      <td>-976000000</td>\n",
              "      <td>1.390000e+09</td>\n",
              "    </tr>\n",
              "    <tr>\n",
              "      <th>2017-12-31</th>\n",
              "      <td>1378000000</td>\n",
              "      <td>-2209000000</td>\n",
              "      <td>-1962000000</td>\n",
              "      <td>2477000000</td>\n",
              "      <td>2223000000</td>\n",
              "      <td>-1632000000</td>\n",
              "      <td>-1632000000</td>\n",
              "      <td>NaN</td>\n",
              "      <td>-477000000</td>\n",
              "      <td>32000000</td>\n",
              "      <td>11759000000</td>\n",
              "      <td>13391000000</td>\n",
              "      <td>9536000000</td>\n",
              "      <td>-577000000</td>\n",
              "      <td>-2241000000</td>\n",
              "      <td>-1962000000</td>\n",
              "      <td>1.395080e+09</td>\n",
              "    </tr>\n",
              "  </tbody>\n",
              "</table>\n",
              "</div>"
            ],
            "text/plain": [
              "            researchDevelopment  ...  minorityInterest\n",
              "endDate                          ...                  \n",
              "2020-12-31          42740000000  ...               NaN\n",
              "2019-12-31          35931000000  ...               NaN\n",
              "2018-12-31          28837000000  ...               NaN\n",
              "2017-12-31          22620000000  ...               NaN\n",
              "2020-09-26          18752000000  ...               NaN\n",
              "2019-09-28          16217000000  ...               NaN\n",
              "2018-09-29          14236000000  ...               NaN\n",
              "2017-09-30          11581000000  ...               NaN\n",
              "2020-12-31           1491000000  ...      1.454000e+09\n",
              "2019-12-31           1343000000  ...      1.492000e+09\n",
              "2018-12-31           1460000000  ...      1.390000e+09\n",
              "2017-12-31           1378000000  ...      1.395080e+09\n",
              "\n",
              "[12 rows x 17 columns]"
            ]
          },
          "metadata": {},
          "execution_count": 5
        }
      ]
    },
    {
      "cell_type": "code",
      "metadata": {
        "colab": {
          "base_uri": "https://localhost:8080/"
        },
        "id": "N5we0HzKPhoI",
        "outputId": "fb314e4e-8380-4b69-ce4c-2521391cfffb"
      },
      "source": [
        "mystocks = ['AMZN','AAPL','TSLA']\n",
        "stockdata = []\n",
        "for i in mystocks:\n",
        "  stockdata.append(getannualisdata(i))\n",
        "  print('Getting:',i)\n",
        "\n",
        "with open('stockdata.json','w') as f:\n",
        "  json.dump(stockdata, f)"
      ],
      "execution_count": null,
      "outputs": [
        {
          "output_type": "stream",
          "name": "stdout",
          "text": [
            "Getting: AMZN\n",
            "Getting: AAPL\n",
            "Getting: TSLA\n"
          ]
        }
      ]
    },
    {
      "cell_type": "markdown",
      "metadata": {
        "id": "T5b4Oxcv1u1l"
      },
      "source": [
        "#Explain details how to extract and parse html and json data"
      ]
    },
    {
      "cell_type": "code",
      "metadata": {
        "id": "40vWiSpBxbmO"
      },
      "source": [
        "stock = 'AMZN'\n",
        "response = requests.get(url_financials.format(stock,stock),headers=headers)\n",
        "soup = BeautifulSoup(response.text,'html.parser')"
      ],
      "execution_count": null,
      "outputs": []
    },
    {
      "cell_type": "markdown",
      "metadata": {
        "id": "h9DhOO_8XNaB"
      },
      "source": [
        "Notice that there is a lot of javascript and not a lot of html to work with. Also notice that json formatted text string is embedded in the code. There is a javascript function commentted with \"--Data--\", and this function is located inside of a generic \"script\" tag. "
      ]
    },
    {
      "cell_type": "code",
      "metadata": {
        "id": "gMXxrPFjXmUR"
      },
      "source": [
        "# Use reg expression \\s for non-breaking spaces\n",
        "pattern = re.compile(r'\\s--\\sData\\s--\\s')\n",
        "script_data = soup.find('script',text=pattern).contents[0]"
      ],
      "execution_count": null,
      "outputs": []
    },
    {
      "cell_type": "code",
      "metadata": {
        "colab": {
          "base_uri": "https://localhost:8080/",
          "height": 103
        },
        "id": "g_SSjBqkYY5B",
        "outputId": "ceb13870-afd8-4cc7-df1d-15ad76d3a9b4"
      },
      "source": [
        "script_data[:500]"
      ],
      "execution_count": null,
      "outputs": [
        {
          "output_type": "execute_result",
          "data": {
            "application/vnd.google.colaboratory.intrinsic+json": {
              "type": "string"
            },
            "text/plain": [
              "'\\n(function (root) {\\n/* -- Data -- */\\nroot.App || (root.App = {});\\nroot.App.now = 1632296362274;\\nroot.App.main = {\"context\":{\"dispatcher\":{\"stores\":{\"PageStore\":{\"currentPageName\":\"quote\",\"currentEvent\":{\"eventName\":\"NEW_PAGE_SUCCESS\"},\"currentRenderTargetId\":\"default\",\"pagesConfigRaw\":{\"base\":{\"quote\":{\"layout\":{\"bundleName\":\"yahoodotcom-layout.TwoColumnLayout\",\"name\":\"TwoColumnLayout\",\"config\":{\"enableHeaderCollapse\":true,\"additionalBodyWrapperClasses\":\"Bgc($layoutBgColor)!\",\"contentWrapperClas'"
            ]
          },
          "metadata": {},
          "execution_count": 10
        }
      ]
    },
    {
      "cell_type": "code",
      "metadata": {
        "colab": {
          "base_uri": "https://localhost:8080/",
          "height": 103
        },
        "id": "1QDtTHKq0k_Q",
        "outputId": "7bcb2588-6689-4706-820e-413a1f9a1ef2"
      },
      "source": [
        "#the end\n",
        "script_data[-500:]"
      ],
      "execution_count": null,
      "outputs": [
        {
          "output_type": "execute_result",
          "data": {
            "application/vnd.google.colaboratory.intrinsic+json": {
              "type": "string"
            },
            "text/plain": [
              "'put\":{\"strings\":1},\"tdv2-applet-sponsored-moments\":{\"strings\":1},\"tdv2-applet-stream\":{\"strings\":1},\"tdv2-applet-stream-hero\":{\"strings\":1},\"tdv2-applet-swisschamp\":{\"strings\":1},\"tdv2-applet-uh\":{\"strings\":1},\"tdv2-applet-userintent\":{\"strings\":1},\"tdv2-applet-video-lightbox\":{\"strings\":1},\"tdv2-applet-video-modal\":{\"strings\":1},\"tdv2-wafer-adfeedback\":{\"strings\":1},\"tdv2-wafer-header\":{\"strings\":1},\"yahoodotcom-layout\":{\"strings\":1}}},\"options\":{\"defaultBundle\":\"td-app-finance\"}}}};\\n}(this));\\n'"
            ]
          },
          "metadata": {},
          "execution_count": 11
        }
      ]
    },
    {
      "cell_type": "code",
      "metadata": {
        "id": "KENl5NFj5usj"
      },
      "source": [
        "# find the starting position of the json string\n",
        "start = script_data.find('context')-2\n",
        "\n",
        "# There are 12 characters from the end, and then slice the json string\n",
        "json_data = json.loads(script_data[start:-12])"
      ],
      "execution_count": null,
      "outputs": []
    },
    {
      "cell_type": "code",
      "metadata": {
        "colab": {
          "base_uri": "https://localhost:8080/"
        },
        "id": "vpSIPxKv7iMh",
        "outputId": "85854de6-a10b-494d-8bf9-cdaffa73f377"
      },
      "source": [
        "json_data['context'].keys()"
      ],
      "execution_count": null,
      "outputs": [
        {
          "output_type": "execute_result",
          "data": {
            "text/plain": [
              "dict_keys(['dispatcher', 'options', 'plugins'])"
            ]
          },
          "metadata": {},
          "execution_count": 13
        }
      ]
    },
    {
      "cell_type": "code",
      "metadata": {
        "colab": {
          "base_uri": "https://localhost:8080/"
        },
        "id": "ckxDr31oIm2z",
        "outputId": "0a3531dc-5435-4576-85f1-9277028c5b38"
      },
      "source": [
        "json_data['context']['dispatcher']['stores'].keys()"
      ],
      "execution_count": null,
      "outputs": [
        {
          "output_type": "execute_result",
          "data": {
            "text/plain": [
              "dict_keys(['PageStore', 'MRTStore', 'RouteStore', 'I13nStore', 'PageTransitionStore', 'VideoPlayerStore', 'QuoteAutoCompleteStore', 'FlyoutStore', 'NavrailStore', 'StreamDataStore', 'QuoteSummaryStore', 'FinanceConfigStore', 'LangStore', 'BeaconStore', 'AdStore', 'VideoStore', 'ComponentConfigStore', 'CrumbStore', 'CompositeStore', 'StreamStore', 'UserStore', 'ProfileStore', 'QuotePageStore', 'NavServiceStore', 'FinancialTemplateStore', 'QuoteTimeSeriesStore', 'MarketTimeStore', 'MarketSummaryStore', 'UHAccountSwitchStore', 'RecommendationStore', 'MobileHeaderStore'])"
            ]
          },
          "metadata": {},
          "execution_count": 14
        }
      ]
    },
    {
      "cell_type": "code",
      "metadata": {
        "colab": {
          "base_uri": "https://localhost:8080/"
        },
        "id": "IzBPuwI7IHbd",
        "outputId": "a0ca3f81-820b-4a17-fdf0-032cef9a99b9"
      },
      "source": [
        "json_data['context']['dispatcher']['stores']['QuoteSummaryStore'].keys()"
      ],
      "execution_count": null,
      "outputs": [
        {
          "output_type": "execute_result",
          "data": {
            "text/plain": [
              "dict_keys(['financialsTemplate', 'cashflowStatementHistory', 'balanceSheetHistoryQuarterly', 'earnings', 'price', 'incomeStatementHistoryQuarterly', 'incomeStatementHistory', 'balanceSheetHistory', 'cashflowStatementHistoryQuarterly', 'quoteType', 'summaryDetail', 'symbol', 'pageViews'])"
            ]
          },
          "metadata": {},
          "execution_count": 15
        }
      ]
    },
    {
      "cell_type": "code",
      "metadata": {
        "id": "sOam_w8IIszx"
      },
      "source": [
        "# income statement\n",
        "annual_is = json_data['context']['dispatcher']['stores']['QuoteSummaryStore']['incomeStatementHistory']['incomeStatementHistory']\n",
        "quarterly_is = json_data['context']['dispatcher']['stores']['QuoteSummaryStore']['incomeStatementHistoryQuarterly']['incomeStatementHistory']\n",
        "\n",
        "# cash flow statement\n",
        "annual_cf = json_data['context']['dispatcher']['stores']['QuoteSummaryStore']['cashflowStatementHistory']['cashflowStatements']\n",
        "quarterly_cf = json_data['context']['dispatcher']['stores']['QuoteSummaryStore']['cashflowStatementHistoryQuarterly']['cashflowStatements']\n",
        "\n",
        "# balance sheet\n",
        "annual_bs = json_data['context']['dispatcher']['stores']['QuoteSummaryStore']['balanceSheetHistory']['balanceSheetStatements']\n",
        "quarterly_bs = json_data['context']['dispatcher']['stores']['QuoteSummaryStore']['balanceSheetHistoryQuarterly']['balanceSheetStatements']"
      ],
      "execution_count": null,
      "outputs": []
    },
    {
      "cell_type": "code",
      "metadata": {
        "id": "i9QwLkUbKi-0"
      },
      "source": [
        "annual_is_stmts = []\n",
        "\n",
        "# consolidate annual\n",
        "for s in annual_is:\n",
        "    statement = {}\n",
        "    for key, val in s.items():\n",
        "        try:\n",
        "            statement[key] = val['longFmt']\n",
        "        except TypeError:\n",
        "            continue\n",
        "        except KeyError:\n",
        "            continue\n",
        "    annual_is_stmts.append(statement)"
      ],
      "execution_count": null,
      "outputs": []
    },
    {
      "cell_type": "markdown",
      "metadata": {
        "id": "ptFdqXPcANep"
      },
      "source": [
        "#Statistics data"
      ]
    },
    {
      "cell_type": "code",
      "metadata": {
        "colab": {
          "base_uri": "https://localhost:8080/",
          "height": 297
        },
        "id": "dzXrIAq3ANGT",
        "outputId": "fea578cf-2c46-403e-9e62-ad4794d2a934"
      },
      "source": [
        "stock = 'AAPL'\n",
        "r = requests.get(url_stats.format(stock,stock),headers=headers)\n",
        "statistics = pd.read_html(r.text)\n",
        "\n",
        "valuation_Measures = statistics[0]\n",
        "stock_Price_History = statistics[1]\n",
        "   \n",
        "share_Statistics = statistics[2]\n",
        "\n",
        "dividend_Info = statistics[3]\n",
        "profitability_Info = statistics[5]\n",
        "management_Efectiveness = statistics[6]\n",
        "\n",
        "income_Statement = statistics[7]\n",
        "balance_Sheet = statistics[8]\n",
        "cash_Flow = statistics[9]\n",
        "\n",
        "income_Statement"
      ],
      "execution_count": null,
      "outputs": [
        {
          "output_type": "execute_result",
          "data": {
            "text/html": [
              "<div>\n",
              "<style scoped>\n",
              "    .dataframe tbody tr th:only-of-type {\n",
              "        vertical-align: middle;\n",
              "    }\n",
              "\n",
              "    .dataframe tbody tr th {\n",
              "        vertical-align: top;\n",
              "    }\n",
              "\n",
              "    .dataframe thead th {\n",
              "        text-align: right;\n",
              "    }\n",
              "</style>\n",
              "<table border=\"1\" class=\"dataframe\">\n",
              "  <thead>\n",
              "    <tr style=\"text-align: right;\">\n",
              "      <th></th>\n",
              "      <th>0</th>\n",
              "      <th>1</th>\n",
              "    </tr>\n",
              "  </thead>\n",
              "  <tbody>\n",
              "    <tr>\n",
              "      <th>0</th>\n",
              "      <td>Revenue (ttm)</td>\n",
              "      <td>347.16B</td>\n",
              "    </tr>\n",
              "    <tr>\n",
              "      <th>1</th>\n",
              "      <td>Revenue Per Share (ttm)</td>\n",
              "      <td>20.61</td>\n",
              "    </tr>\n",
              "    <tr>\n",
              "      <th>2</th>\n",
              "      <td>Quarterly Revenue Growth (yoy)</td>\n",
              "      <td>36.40%</td>\n",
              "    </tr>\n",
              "    <tr>\n",
              "      <th>3</th>\n",
              "      <td>Gross Profit (ttm)</td>\n",
              "      <td>104.96B</td>\n",
              "    </tr>\n",
              "    <tr>\n",
              "      <th>4</th>\n",
              "      <td>EBITDA</td>\n",
              "      <td>110.93B</td>\n",
              "    </tr>\n",
              "    <tr>\n",
              "      <th>5</th>\n",
              "      <td>Net Income Avi to Common (ttm)</td>\n",
              "      <td>86.8B</td>\n",
              "    </tr>\n",
              "    <tr>\n",
              "      <th>6</th>\n",
              "      <td>Diluted EPS (ttm)</td>\n",
              "      <td>5.11</td>\n",
              "    </tr>\n",
              "    <tr>\n",
              "      <th>7</th>\n",
              "      <td>Quarterly Earnings Growth (yoy)</td>\n",
              "      <td>93.20%</td>\n",
              "    </tr>\n",
              "  </tbody>\n",
              "</table>\n",
              "</div>"
            ],
            "text/plain": [
              "                                 0        1\n",
              "0                    Revenue (ttm)  347.16B\n",
              "1          Revenue Per Share (ttm)    20.61\n",
              "2   Quarterly Revenue Growth (yoy)   36.40%\n",
              "3               Gross Profit (ttm)  104.96B\n",
              "4                           EBITDA  110.93B\n",
              "5   Net Income Avi to Common (ttm)    86.8B\n",
              "6                Diluted EPS (ttm)     5.11\n",
              "7  Quarterly Earnings Growth (yoy)   93.20%"
            ]
          },
          "metadata": {},
          "execution_count": 18
        }
      ]
    },
    {
      "cell_type": "markdown",
      "metadata": {
        "id": "MSFEBewglRsq"
      },
      "source": [
        "#Historical data"
      ]
    },
    {
      "cell_type": "code",
      "metadata": {
        "id": "LEtQwnuKjUZl"
      },
      "source": [
        "class historicaldata:\n",
        "    timeout = 2\n",
        "    crumb_link = 'https://finance.yahoo.com/quote/{0}/history?p={0}'\n",
        "    crumble_regex = r'CrumbStore\":{\"crumb\":\"(.*?)\"}'\n",
        "    quote_link = 'https://query1.finance.yahoo.com/v7/finance/download/{quote}?period1={dfrom}&period2={dto}&interval=1d&events=history&crumb={crumb}'\n",
        "    headers={'User-Agent': 'Mozilla/5.0 (Windows NT 10.0; Win64; x64) AppleWebKit/537.36 (KHTML, like Gecko) Chrome/71.0.3578.98 Safari/537.36'}\n",
        "    def __init__(self, stock, days_back=7):\n",
        "        self.stock = stock\n",
        "        self.session = requests.Session()\n",
        "        self.dt = timedelta(days=days_back)\n",
        "\n",
        "    def get_crumb(self):\n",
        "        response = self.session.get(self.crumb_link.format(self.stock), headers=headers, timeout=self.timeout)\n",
        "        response.raise_for_status()\n",
        "        match = re.search(self.crumble_regex, response.text)\n",
        "        if not match:\n",
        "            raise ValueError('Could not get crumb from Yahoo Finance')\n",
        "        else:\n",
        "            self.crumb = match.group(1)\n",
        "\n",
        "    def get_quote(self):\n",
        "        if not hasattr(self, 'crumb') or len(self.session.cookies) == 0:\n",
        "            self.get_crumb()\n",
        "        now = datetime.utcnow()\n",
        "        dateto = int(now.timestamp())\n",
        "        datefrom = int((now - self.dt).timestamp())\n",
        "        url = self.quote_link.format(quote=self.stock, dfrom=datefrom, dto=dateto, crumb=self.crumb)\n",
        "        response = self.session.get(url,headers=headers)\n",
        "        response.raise_for_status()\n",
        "        return pd.read_csv(StringIO(response.text), parse_dates=['Date'])"
      ],
      "execution_count": null,
      "outputs": []
    },
    {
      "cell_type": "code",
      "metadata": {
        "colab": {
          "base_uri": "https://localhost:8080/",
          "height": 235
        },
        "id": "rYZu_L13j09B",
        "outputId": "1776cfbe-072a-465d-bd8a-0d6f8b9d1eab"
      },
      "source": [
        "df = historicaldata('AAPL', days_back=3000).get_quote()\n",
        "df.set_index('Date', inplace=True)\n",
        "df[['Adj Close']].tail()"
      ],
      "execution_count": null,
      "outputs": [
        {
          "output_type": "execute_result",
          "data": {
            "text/html": [
              "<div>\n",
              "<style scoped>\n",
              "    .dataframe tbody tr th:only-of-type {\n",
              "        vertical-align: middle;\n",
              "    }\n",
              "\n",
              "    .dataframe tbody tr th {\n",
              "        vertical-align: top;\n",
              "    }\n",
              "\n",
              "    .dataframe thead th {\n",
              "        text-align: right;\n",
              "    }\n",
              "</style>\n",
              "<table border=\"1\" class=\"dataframe\">\n",
              "  <thead>\n",
              "    <tr style=\"text-align: right;\">\n",
              "      <th></th>\n",
              "      <th>Adj Close</th>\n",
              "    </tr>\n",
              "    <tr>\n",
              "      <th>Date</th>\n",
              "      <th></th>\n",
              "    </tr>\n",
              "  </thead>\n",
              "  <tbody>\n",
              "    <tr>\n",
              "      <th>2021-09-15</th>\n",
              "      <td>149.029999</td>\n",
              "    </tr>\n",
              "    <tr>\n",
              "      <th>2021-09-16</th>\n",
              "      <td>148.789993</td>\n",
              "    </tr>\n",
              "    <tr>\n",
              "      <th>2021-09-17</th>\n",
              "      <td>146.059998</td>\n",
              "    </tr>\n",
              "    <tr>\n",
              "      <th>2021-09-20</th>\n",
              "      <td>142.940002</td>\n",
              "    </tr>\n",
              "    <tr>\n",
              "      <th>2021-09-21</th>\n",
              "      <td>143.429993</td>\n",
              "    </tr>\n",
              "  </tbody>\n",
              "</table>\n",
              "</div>"
            ],
            "text/plain": [
              "             Adj Close\n",
              "Date                  \n",
              "2021-09-15  149.029999\n",
              "2021-09-16  148.789993\n",
              "2021-09-17  146.059998\n",
              "2021-09-20  142.940002\n",
              "2021-09-21  143.429993"
            ]
          },
          "metadata": {},
          "execution_count": 20
        }
      ]
    }
  ]
}